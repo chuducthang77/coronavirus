{
  "nbformat": 4,
  "nbformat_minor": 0,
  "metadata": {
    "colab": {
      "name": "Mutation_analysis.ipynb",
      "provenance": [],
      "collapsed_sections": [],
      "authorship_tag": "ABX9TyOSNnAudbKQX71eqYW7m8vW",
      "include_colab_link": true
    },
    "kernelspec": {
      "name": "python3",
      "display_name": "Python 3"
    },
    "language_info": {
      "name": "python"
    }
  },
  "cells": [
    {
      "cell_type": "markdown",
      "metadata": {
        "id": "view-in-github",
        "colab_type": "text"
      },
      "source": [
        "<a href=\"https://colab.research.google.com/github/chuducthang77/coronavirus/blob/main/Mutation_analysis.ipynb\" target=\"_parent\"><img src=\"https://colab.research.google.com/assets/colab-badge.svg\" alt=\"Open In Colab\"/></a>"
      ]
    },
    {
      "cell_type": "markdown",
      "metadata": {
        "id": "14dVwzJ3zOwk"
      },
      "source": [
        "# Mutation analysis\n",
        "1. Calculate the mutation rate (number of mutations/number of unique sequences) \n",
        "2. Consider only the sequences between 2000 and 2020\n",
        "3. Write the different files (Year : Mutation rate)"
      ]
    },
    {
      "cell_type": "code",
      "metadata": {
        "colab": {
          "base_uri": "https://localhost:8080/"
        },
        "id": "R1PWRGGnzGNK",
        "outputId": "0b358e33-0347-43d8-c390-f2552e501224"
      },
      "source": [
        "from google.colab import drive\n",
        "drive.mount('/content/gdrive')"
      ],
      "execution_count": 1,
      "outputs": [
        {
          "output_type": "stream",
          "text": [
            "Mounted at /content/gdrive\n"
          ],
          "name": "stdout"
        }
      ]
    },
    {
      "cell_type": "code",
      "metadata": {
        "colab": {
          "base_uri": "https://localhost:8080/"
        },
        "id": "h2esGPmv09OC",
        "outputId": "0e2422c8-be8a-4007-f70a-e9b400e32b93"
      },
      "source": [
        "%cd 'gdrive/MyDrive/Machine Learning/coronavirus/analysis'\n",
        "!ls"
      ],
      "execution_count": 2,
      "outputs": [
        {
          "output_type": "stream",
          "text": [
            "/content/gdrive/MyDrive/Machine Learning/coronavirus/analysis\n",
            "H1N_H9N  Mutation_analysis.ipynb\n"
          ],
          "name": "stdout"
        }
      ]
    },
    {
      "cell_type": "code",
      "metadata": {
        "id": "yNRE68PC1hLL"
      },
      "source": [
        "import os\n",
        "import pandas as pd\n",
        "import numpy as np"
      ],
      "execution_count": 3,
      "outputs": []
    },
    {
      "cell_type": "code",
      "metadata": {
        "id": "gVWg69lYBj_E"
      },
      "source": [
        "#List all the directory names\n",
        "dir_name = os.listdir('./H1N_H9N')\n",
        "\n",
        "for name in dir_name:\n",
        "  df = pd.read_csv('./H1N_H9N/' + name)\n",
        "\n",
        "  #Select only sequence between 2000 and 2020\n",
        "  start_date = '2000-01-01'\n",
        "  end_date = '2020-12-31'\n",
        "  df = df[(df['Date'] >= start_date)]\n",
        "  df = df[(df['Date'] < end_date)]\n",
        "\n",
        "  #Create another column called year to select the number of unique sequence and number of mutations\n",
        "  df['year'] = pd.to_datetime(df['Date']).dt.year\n",
        "\n",
        "  start = 2000\n",
        "  length = 20\n",
        "  i = 0\n",
        "\n",
        "  with open('output_{}.txt'.format(name[:-4]), 'a') as output:\n",
        "    output.write('Year    Mutation Rate\\n')\n",
        "\n",
        "    while i <= length:\n",
        "      specific_year = df[(df['year'] == start + i)]\n",
        "\n",
        "      #Calculate the number of mutations\n",
        "      num_mutations = np.float64(specific_year['year'].count())\n",
        "\n",
        "      #Calculate the number of unique sequence\n",
        "      num_unique = np.float64(specific_year['Accession ID'].nunique())\n",
        "\n",
        "      #Calculate the mutation rate\n",
        "      if num_unique != 0:\n",
        "        mutation_rate = num_mutations/num_unique\n",
        "      else:\n",
        "        mutation_rate = 0\n",
        "        \n",
        "      output.write('{}    {}\\n'.format(start + i, mutation_rate))\n",
        "\n",
        "      i += 1\n"
      ],
      "execution_count": 9,
      "outputs": []
    }
  ]
}